{
 "cells": [
  {
   "cell_type": "markdown",
   "metadata": {},
   "source": [
    "# Notebook #4: The proxy database\n",
    "\n",
    "In this script, we'll take a look at one of the LMR inputs: the proxy database.\n",
    "\n",
    "One of the initial steps of running the LMR is to preprocess the proxy network.  This step puts the data into a standard format and calculates annual-mean values, among other things.  Let's take a look at these standard files."
   ]
  },
  {
   "cell_type": "code",
   "execution_count": 1,
   "metadata": {},
   "outputs": [],
   "source": [
    "# A non-python command to make sure all figures are plotted on this page.\n",
    "%matplotlib inline"
   ]
  },
  {
   "cell_type": "code",
   "execution_count": 2,
   "metadata": {},
   "outputs": [],
   "source": [
    "# Import the necessary python packages \n",
    "import numpy as np\n",
    "import matplotlib.pyplot as plt\n",
    "import pandas as pd\n",
    "\n"
   ]
  },
  {
   "cell_type": "code",
   "execution_count": 3,
   "metadata": {},
   "outputs": [],
   "source": [
    "# Load the proxy data and metadata using the pandas library.\n",
    "proxies = pd.read_pickle('../LMR_data/data/proxies/Pages2kv1_Proxies.df.pckl')\n",
    "metadata = pd.read_pickle('../LMR_data/data/proxies/Pages2kv1_Metadata.df.pckl')"
   ]
  },
  {
   "cell_type": "code",
   "execution_count": 4,
   "metadata": {},
   "outputs": [
    {
     "name": "stdout",
     "output_type": "stream",
     "text": [
      "<class 'pandas.core.frame.DataFrame'>\n",
      "(2512, 577)\n"
     ]
    }
   ],
   "source": [
    "# The \"type\" and \"shape\" commands can be used to learn more about the data set.\n",
    "# The proxy data:\n",
    "print(type(proxies))\n",
    "print(proxies.shape)"
   ]
  },
  {
   "cell_type": "code",
   "execution_count": 5,
   "metadata": {},
   "outputs": [
    {
     "name": "stdout",
     "output_type": "stream",
     "text": [
      "<class 'pandas.core.frame.DataFrame'>\n",
      "(522, 15)\n"
     ]
    }
   ],
   "source": [
    "# The proxy metadata:\n",
    "print(type(metadata))\n",
    "print(metadata.shape)"
   ]
  },
  {
   "cell_type": "code",
   "execution_count": 6,
   "metadata": {},
   "outputs": [
    {
     "name": "stdout",
     "output_type": "stream",
     "text": [
      "          Ant_01   Ant_02 Ant_03 Ant_04 Ant_05 Ant_06 Ant_07 Ant_08 Ant_09  \\\n",
      "Year C.E.                                                                    \n",
      "-500         NaN      NaN    NaN    NaN    NaN    NaN    NaN    NaN    NaN   \n",
      "-499         NaN      NaN    NaN    NaN    NaN    NaN    NaN    NaN    NaN   \n",
      "-498         NaN      NaN    NaN    NaN    NaN    NaN    NaN    NaN    NaN   \n",
      "-497         NaN      NaN    NaN    NaN    NaN    NaN    NaN    NaN    NaN   \n",
      "-496         NaN      NaN    NaN    NaN    NaN    NaN    NaN    NaN    NaN   \n",
      "...          ...      ...    ...    ...    ...    ...    ...    ...    ...   \n",
      " 2007        NaN -21.6681    NaN    NaN    NaN    NaN    NaN    NaN    NaN   \n",
      " 2008        NaN      NaN    NaN    NaN    NaN    NaN    NaN    NaN    NaN   \n",
      " 2009        NaN      NaN    NaN    NaN    NaN    NaN    NaN    NaN    NaN   \n",
      " 2010        NaN      NaN    NaN    NaN    NaN    NaN    NaN    NaN    NaN   \n",
      " 2011        NaN      NaN    NaN    NaN    NaN    NaN    NaN    NaN    NaN   \n",
      "\n",
      "          Ant_10  ... SAm_14  SAm_15 SAm_16 SAm_17 SAm_18 SAm_19 SAm_20  \\\n",
      "Year C.E.         ...                                                     \n",
      "-500         NaN  ...    NaN     NaN    NaN    NaN    NaN    NaN    NaN   \n",
      "-499         NaN  ...    NaN     NaN    NaN    NaN    NaN    NaN    NaN   \n",
      "-498         NaN  ...    NaN     NaN    NaN    NaN    NaN    NaN    NaN   \n",
      "-497         NaN  ...    NaN     NaN    NaN    NaN    NaN    NaN    NaN   \n",
      "-496         NaN  ...    NaN     NaN    NaN    NaN    NaN    NaN    NaN   \n",
      "...          ...  ...    ...     ...    ...    ...    ...    ...    ...   \n",
      " 2007     -158.1  ...    NaN     NaN    NaN    NaN    NaN    NaN    NaN   \n",
      " 2008        NaN  ...    NaN     NaN    NaN    NaN    NaN    NaN    NaN   \n",
      " 2009        NaN  ...    NaN     NaN    NaN    NaN    NaN    NaN    NaN   \n",
      " 2010        NaN  ...    NaN     NaN    NaN    NaN    NaN    NaN    NaN   \n",
      " 2011        NaN  ...    NaN     NaN    NaN    NaN    NaN    NaN    NaN   \n",
      "\n",
      "          SAm_21 SAm_22 SAm_23  \n",
      "Year C.E.                       \n",
      "-500         NaN    NaN    NaN  \n",
      "-499         NaN    NaN    NaN  \n",
      "-498         NaN    NaN    NaN  \n",
      "-497         NaN    NaN    NaN  \n",
      "-496         NaN    NaN    NaN  \n",
      "...          ...    ...    ...  \n",
      " 2007        NaN    NaN    NaN  \n",
      " 2008        NaN    NaN    NaN  \n",
      " 2009        NaN    NaN    NaN  \n",
      " 2010        NaN    NaN    NaN  \n",
      " 2011        NaN    NaN    NaN  \n",
      "\n",
      "[2512 rows x 577 columns]\n"
     ]
    }
   ],
   "source": [
    "# Let's look at the contents of the proxy file.\n",
    "print(proxies)\n"
   ]
  },
  {
   "cell_type": "code",
   "execution_count": 7,
   "metadata": {},
   "outputs": [
    {
     "name": "stdout",
     "output_type": "stream",
     "text": [
      "Index(['Ant_01', 'Ant_02', 'Ant_03', 'Ant_04', 'Ant_05', 'Ant_06', 'Ant_07',\n",
      "       'Ant_08', 'Ant_09', 'Ant_10',\n",
      "       ...\n",
      "       'SAm_14', 'SAm_15', 'SAm_16', 'SAm_17', 'SAm_18', 'SAm_19', 'SAm_20',\n",
      "       'SAm_21', 'SAm_22', 'SAm_23'],\n",
      "      dtype='object', length=577)\n"
     ]
    }
   ],
   "source": [
    "# The \"keys\" command shows all of the keys for this dataset.\n",
    "print(proxies.keys())"
   ]
  },
  {
   "cell_type": "code",
   "execution_count": 8,
   "metadata": {},
   "outputs": [
    {
     "name": "stdout",
     "output_type": "stream",
     "text": [
      "Index(['PAGES 2k Region', 'Proxy ID', 'Country/Region', 'Area', 'Site',\n",
      "       'Lat (N)', 'Lon (E)', 'Archive type', 'Proxy measurement',\n",
      "       'Proxy other info', 'Sign relation to temp', 'Oldest (C.E.)',\n",
      "       'Youngest (C.E.)', 'Resolution (yr)', 'Reference'],\n",
      "      dtype='object')\n"
     ]
    }
   ],
   "source": [
    "# Display all of the fields in the metadata file.\n",
    "print(metadata.keys())"
   ]
  },
  {
   "cell_type": "code",
   "execution_count": 9,
   "metadata": {},
   "outputs": [
    {
     "name": "stdout",
     "output_type": "stream",
     "text": [
      "            PAGES 2k Region :                 Asia\n",
      "                   Proxy ID :              Asi_021\n",
      "             Country/Region : Altai Mountains (AT)\n",
      "                       Area :              RUSS139\n",
      "                       Site :               UKHEWD\n",
      "                    Lat (N) :                50.15\n",
      "                    Lon (E) :     85.3666666666667\n",
      "               Archive type :            Tree ring\n",
      "          Proxy measurement :    Earlywood density\n",
      "           Proxy other info :                  nan\n",
      "      Sign relation to temp :             Positive\n",
      "              Oldest (C.E.) :               1581.0\n",
      "            Youngest (C.E.) :               1994.0\n",
      "            Resolution (yr) :                  1.0\n",
      "                  Reference :    Schweingruber, FH\n"
     ]
    }
   ],
   "source": [
    "# As an example, plot the metadata of the first record.\n",
    "# Loop through every element of the metadata and print it to screen.\n",
    "for key in metadata.keys():\n",
    "    print('%27s : %20s' % (key, metadata.loc[101][key]))"
   ]
  },
  {
   "cell_type": "code",
   "execution_count": 10,
   "metadata": {},
   "outputs": [
    {
     "name": "stdout",
     "output_type": "stream",
     "text": [
      "index:                 Site:       Country/Region:         Archive type:\n",
      "   81:               AAT2LS, Altai Mountains (AT),            Tree ring\n",
      "   82:               DJAZLS, Altai Mountains (AT),            Tree ring\n",
      "   83:               JABELS, Altai Mountains (AT),            Tree ring\n",
      "   84:               KUR2LS, Altai Mountains (AT),            Tree ring\n",
      "   85:               KUR3LS, Altai Mountains (AT),            Tree ring\n",
      "   86:               MSALLS, Altai Mountains (AT),            Tree ring\n",
      "   87:               NCHALS, Altai Mountains (AT),            Tree ring\n",
      "   88:               TUT2LS, Altai Mountains (AT),            Tree ring\n",
      "   89:               UGLALS, Altai Mountains (AT),            Tree ring\n",
      "   90:               ULAGLS, Altai Mountains (AT),            Tree ring\n",
      "   91:               UULTRW, Altai Mountains (AT),            Tree ring\n",
      "   92:               UULEWW, Altai Mountains (AT),            Tree ring\n",
      "   93:               UULLWW, Altai Mountains (AT),            Tree ring\n",
      "   94:               UULEWD, Altai Mountains (AT),            Tree ring\n",
      "   95:               UULLWD, Altai Mountains (AT),            Tree ring\n",
      "   96:               UULMND, Altai Mountains (AT),            Tree ring\n",
      "   97:               UULMXD, Altai Mountains (AT),            Tree ring\n",
      "   98:               UKHTRW, Altai Mountains (AT),            Tree ring\n",
      "   99:               UKHEWW, Altai Mountains (AT),            Tree ring\n",
      "  100:               UKHLWW, Altai Mountains (AT),            Tree ring\n",
      "  101:               UKHEWD, Altai Mountains (AT),            Tree ring\n",
      "  102:               UKHLWD, Altai Mountains (AT),            Tree ring\n",
      "  103:               UKHMND, Altai Mountains (AT),            Tree ring\n",
      "  104:               UKHMXD, Altai Mountains (AT),            Tree ring\n",
      "  105:               GAYTTD,          Bhutan (BT),            Tree ring\n",
      "  106:               NASPTD,          Bhutan (BT),            Tree ring\n",
      "  107:               PHUMTD,          Bhutan (BT),            Tree ring\n",
      "  108:               ZACHTD,          Bhutan (BT),            Tree ring\n",
      "  109:               BHUTTD,          Bhutan (BT),            Tree ring\n",
      "  110:               CAMGSP,          Bhutan (BT),            Tree ring\n",
      "  111:               DHURPS,          Bhutan (BT),            Tree ring\n",
      "  112:               GEYZSP,          Bhutan (BT),            Tree ring\n",
      "  113:               PEMBSP,          Bhutan (BT),            Tree ring\n",
      "  114:               BHUTSP,          Bhutan (BT),            Tree ring\n",
      "  115:               LAYAJR,          Bhutan (BT),            Tree ring\n",
      "  116:               TSHEPS,          Bhutan (BT),            Tree ring\n",
      "  117:               TSHETD,          Bhutan (BT),            Tree ring\n",
      "  118:               TANSIC,           China (CH),            Tree ring\n",
      "  119:               XCHSIC,           China (CH),            Tree ring\n",
      "  120:               DAOSIC,           China (CH),            Tree ring\n",
      "  121:               MAXSIC,           China (CH),            Tree ring\n",
      "  122:               WXIYUN,           China (CH),            Tree ring\n",
      "  123:               DEZQIN,           China (CH),            Tree ring\n",
      "  124:               GOUQIN,           China (CH),            Tree ring\n",
      "  125:               HEBQIN,           China (CH),            Tree ring\n",
      "  126:               LAJQIN,           China (CH),            Tree ring\n",
      "  127:               GHEGAN,           China (CH),            Tree ring\n",
      "  128:               DULAJP,           China (CH),            Tree ring\n",
      "  129:               SHENJP,           China (CH),            Tree ring\n",
      "  130:               DUSHJP,           China (CH),            Tree ring\n",
      "  131:               MQAXJP,           China (CH),            Tree ring\n",
      "  132:               MQBXJP,           China (CH),            Tree ring\n",
      "  133:               MQDXJP,           China (CH),            Tree ring\n",
      "  134:               MQFXJP,           China (CH),            Tree ring\n",
      "  135:               MQRXJP,           China (CH),            Tree ring\n",
      "  136:               TDAXJP,           China (CH),            Tree ring\n",
      "  137:               TDBXJP,           China (CH),            Tree ring\n",
      "  138:               HBLXJP,           China (CH),            Tree ring\n",
      "  139:               HBMXJP,           China (CH),            Tree ring\n",
      "  140:               HBHXJP,           China (CH),            Tree ring\n",
      "  141:               BARELC,           China (CH),            Tree ring\n",
      "  142:               HUASPI,           China (CH),            Tree ring\n",
      "  143:               SANGTS,           China (CH),            Tree ring\n",
      "  144:               BLKALS,           China (CH),            Tree ring\n",
      "  145:               TIANMU,           China (CH),            Tree ring\n",
      "  146:               WULANJ,           China (CH),            Tree ring\n",
      "  147:               QUMAJP,           China (CH),            Tree ring\n",
      "  148:               ZHIDJP,           China (CH),            Tree ring\n",
      "  149:               ZHANGX,           China (CH),            Tree ring\n",
      "  150:               XIANGC,           China (CH),            Tree ring\n",
      "  151:               BAWSIC,           China (CH),            Tree ring\n",
      "  152:               PTCYUN,           China (CH),            Tree ring\n",
      "  153:               WEXYUN,           China (CH),            Tree ring\n",
      "  154:               HXBURU,           China (CH),            Tree ring\n",
      "  155:               DQHZHO,           China (CH),            Tree ring\n",
      "  156:               SMASLY,           China (CH),            Tree ring\n",
      "  157:               HYGJUP,           China (CH),            Tree ring\n",
      "  158:               MQACJP,           China (CH),            Tree ring\n",
      "  159:               10GK_P,           China (CH),            Tree ring\n",
      "  160:               11YC_T,           China (CH),            Tree ring\n",
      "  161:               12YM_A,           China (CH),            Tree ring\n",
      "  162:               13YE_T,           China (CH),            Tree ring\n",
      "  163:               22DL_T,           China (CH),            Tree ring\n",
      "  164:                 DLH1,           China (CH),            Tree ring\n",
      "  165:                 DLH2,           China (CH),            Tree ring\n",
      "  166:                 DLH3,           China (CH),            Tree ring\n",
      "  167:                 DLH4,           China (CH),            Tree ring\n",
      "  168:                 DLH5,           China (CH),            Tree ring\n",
      "  169:                 DLH6,           China (CH),            Tree ring\n",
      "  170:                  HSE,           China (CH),            Tree ring\n",
      "  171:                  HSS,           China (CH),            Tree ring\n",
      "  172:                  HSW,           China (CH),            Tree ring\n",
      "  173:                  QML,           China (CH),            Tree ring\n",
      "  174:                  TJ1,           China (CH),            Tree ring\n",
      "  175:                  WL1,           China (CH),            Tree ring\n",
      "  176:                  WL2,           China (CH),            Tree ring\n",
      "  177:                  WL3,           China (CH),            Tree ring\n",
      "  178:                  WL4,           China (CH),            Tree ring\n",
      "  179:                 ZD31,           China (CH),            Tree ring\n",
      "  180:                  ZHD,           China (CH),            Tree ring\n",
      "  181:               MUNATG,       Indonesia (ID),            Tree ring\n",
      "  182:               GANGCD,           India (IN),            Tree ring\n",
      "  183:               RANGCD,           India (IN),            Tree ring\n",
      "  184:               NARKAB,           India (IN),            Tree ring\n",
      "  185:               NARANG,           India (IN),            Tree ring\n",
      "  186:               KERALA,           India (IN),            Tree ring\n",
      "  187:                JANCD,           India (IN),            Tree ring\n",
      "  188:               MTASSP,           Japan (JP),            Tree ring\n",
      "  189:               MTASMD,           Japan (JP),            Tree ring\n",
      "  190:               KUNASH,           Japan (JP),            Tree ring\n",
      "  191:                  YKS,           Japan (JP),            Tree ring\n",
      "  192:                  MSR,           Japan (JP),            Tree ring\n",
      "  193:                  ONB,           Japan (JP),            Tree ring\n",
      "  194:                  SJT,           Japan (JP),            Tree ring\n",
      "  195:                  TKC,           Japan (JP),            Tree ring\n",
      "  196:                  TSO,           Japan (JP),            Tree ring\n",
      "  197:                YKCOM,           Japan (JP),            Tree ring\n",
      "  198:                  YKA,           Japan (JP),            Tree ring\n",
      "  199:                  YKC,           Japan (JP),            Tree ring\n",
      "  200:                  KMD,           Japan (JP),            Tree ring\n",
      "  201:               BONKJT,       Kyrgystan (KG),            Tree ring\n",
      "  202:               GEFKJT,       Kyrgystan (KG),            Tree ring\n",
      "  203:               GRAKJT,       Kyrgystan (KG),            Tree ring\n",
      "  204:               HOCKJT,       Kyrgystan (KG),            Tree ring\n",
      "  205:               MURKJT,       Kyrgystan (KG),            Tree ring\n",
      "  206:               AJTMJT,       Kyrgystan (KG),            Tree ring\n",
      "  207:               KJTRJT,       Kyrgystan (KG),            Tree ring\n",
      "  208:               MJTQJT,       Kyrgystan (KG),            Tree ring\n",
      "  209:               XJTCJT,       Kyrgystan (KG),            Tree ring\n",
      "  210:               SHIYAT,       Kyrgystan (KG),            Tree ring\n",
      "  211:               ESPERG,       Kyrgystan (KG),            Tree ring\n",
      "  212:               SHIESP,       Kyrgystan (KG),            Tree ring\n",
      "  213:               KRNKAM,       Kamchatka (KM),            Tree ring\n",
      "  214:               ULKEPS,      Kazakhstan (KZ),            Tree ring\n",
      "  215:               KOELIU,      Kazakhstan (KZ),            Tree ring\n",
      "  216:               ENGILC,      Kazakhstan (KZ),            Tree ring\n",
      "  217:               KOKKIY,      Kazakhstan (KZ),            Tree ring\n",
      "  218:               NANENG,      Kazakhstan (KZ),            Tree ring\n",
      "  219:               ANKHLS,        Mongolia (MG),            Tree ring\n",
      "  220:               BAYHLS,        Mongolia (MG),            Tree ring\n",
      "  221:               BIGELS,        Mongolia (MG),            Tree ring\n",
      "  222:               BIARLS,        Mongolia (MG),            Tree ring\n",
      "  223:               BULGLS,        Mongolia (MG),            Tree ring\n",
      "  224:               DAYNLS,        Mongolia (MG),            Tree ring\n",
      "  225:               HENTLS,        Mongolia (MG),            Tree ring\n",
      "  226:               HORBLS,        Mongolia (MG),            Tree ring\n",
      "  227:               KHELLS,        Mongolia (MG),            Tree ring\n",
      "  228:               KHOGLS,        Mongolia (MG),            Tree ring\n",
      "  229:               KHOTLS,        Mongolia (MG),            Tree ring\n",
      "  230:               KHOVLS,        Mongolia (MG),            Tree ring\n",
      "  231:               MANDLS,        Mongolia (MG),            Tree ring\n",
      "  232:               MANHPS,        Mongolia (MG),            Tree ring\n",
      "  233:               ONONLS,        Mongolia (MG),            Tree ring\n",
      "  234:               OVOOLS,        Mongolia (MG),            Tree ring\n",
      "  235:               SODAPS,        Mongolia (MG),            Tree ring\n",
      "  236:               SPKRLS,        Mongolia (MG),            Tree ring\n",
      "  237:               SUBALS,        Mongolia (MG),            Tree ring\n",
      "  238:               SUMELS,        Mongolia (MG),            Tree ring\n",
      "  239:               TUCHLS,        Mongolia (MG),            Tree ring\n",
      "  240:               UNDULS,        Mongolia (MG),            Tree ring\n",
      "  241:               ZMGLPS,        Mongolia (MG),            Tree ring\n",
      "  242:               ZNMDLS,        Mongolia (MG),            Tree ring\n",
      "  243:               ZSMDLS,        Mongolia (MG),            Tree ring\n",
      "  244:               ZURTLS,        Mongolia (MG),            Tree ring\n",
      "  245:               Hushre,        Mongolia (MG),            Tree ring\n",
      "  246:               TERELJ,        Mongolia (MG),            Tree ring\n",
      "  247:               AGHERI,           Nepal (NP),            Tree ring\n",
      "  248:               BHULJR,           Nepal (NP),            Tree ring\n",
      "  249:               CHDAND,           Nepal (NP),            Tree ring\n",
      "  250:               DEORLA,           Nepal (NP),            Tree ring\n",
      "  251:               DDANJR,           Nepal (NP),            Tree ring\n",
      "  252:               GHURCH,           Nepal (NP),            Tree ring\n",
      "  253:               KATKUW,           Nepal (NP),            Tree ring\n",
      "  254:               LANGTD,           Nepal (NP),            Tree ring\n",
      "  255:               LUKUTD,           Nepal (NP),            Tree ring\n",
      "  256:               MUMBAS,           Nepal (NP),            Tree ring\n",
      "  257:               RACHAS,           Nepal (NP),            Tree ring\n",
      "  258:               BURGPW,           Nepal (NP),            Tree ring\n",
      "  259:               GHUNAB,           Nepal (NP),            Tree ring\n",
      "  260:               LAMIAB,           Nepal (NP),            Tree ring\n",
      "  261:               YAKHTD,           Nepal (NP),            Tree ring\n",
      "  262:               ENEPAB,           Nepal (NP),            Tree ring\n",
      "  263:               ESPPAK,        Pakistan (PK),            Tree ring\n",
      "  264:               ASTABP,        Pakistan (PK),            Tree ring\n",
      "  265:               ASTPIW,        Pakistan (PK),            Tree ring\n",
      "  266:               BAG1JU,        Pakistan (PK),            Tree ring\n",
      "  267:               BAG2JU,        Pakistan (PK),            Tree ring\n",
      "  268:               BAG4JU,        Pakistan (PK),            Tree ring\n",
      "  269:               BAG5JU,        Pakistan (PK),            Tree ring\n",
      "  270:               BUKCDD,        Pakistan (PK),            Tree ring\n",
      "  271:               BUKPIG,        Pakistan (PK),            Tree ring\n",
      "  272:               CGPCDD,        Pakistan (PK),            Tree ring\n",
      "  273:               CGPPIG,        Pakistan (PK),            Tree ring\n",
      "  274:               CHEPCS,        Pakistan (PK),            Tree ring\n",
      "  275:               CHP2JU,        Pakistan (PK),            Tree ring\n",
      "  276:               CHP3JU,        Pakistan (PK),            Tree ring\n",
      "  277:               DskJUE,        Pakistan (PK),            Tree ring\n",
      "  278:               ISBCDD,        Pakistan (PK),            Tree ring\n",
      "  279:               JOTPIG,        Pakistan (PK),            Tree ring\n",
      "  280:               JUTPCS,        Pakistan (PK),            Tree ring\n",
      "  281:               KARPCS,        Pakistan (PK),            Tree ring\n",
      "  282:               MOR1JU,        Pakistan (PK),            Tree ring\n",
      "  283:               MOR2JU,        Pakistan (PK),            Tree ring\n",
      "  284:               MOR3JU,        Pakistan (PK),            Tree ring\n",
      "  285:               MOR4JU,        Pakistan (PK),            Tree ring\n",
      "  286:               MSFCDD,        Pakistan (PK),            Tree ring\n",
      "  287:               MUSPIG,        Pakistan (PK),            Tree ring\n",
      "  288:               NLTJUE,        Pakistan (PK),            Tree ring\n",
      "  289:               NLTPCS,        Pakistan (PK),            Tree ring\n",
      "  290:               SAT1JU,        Pakistan (PK),            Tree ring\n",
      "  291:               SAT2JU,        Pakistan (PK),            Tree ring\n",
      "  292:               SAT3JU,        Pakistan (PK),            Tree ring\n",
      "  293:               TKACDD,        Pakistan (PK),            Tree ring\n",
      "  294:               ZACCDD,        Pakistan (PK),            Tree ring\n",
      "  295:               HRPCSM,        Pakistan (PK),            Tree ring\n",
      "  296:               NOGSAK, Sakhalin Island (SK),            Tree ring\n",
      "  297:               CHOLPB,           Tibet (TB),            Tree ring\n",
      "  298:               QAMDPB,           Tibet (TB),            Tree ring\n",
      "  299:               RIWOPB,           Tibet (TB),            Tree ring\n",
      "  300:               DENSJT,           Tibet (TB),            Tree ring\n",
      "  301:               QAMDJT,           Tibet (TB),            Tree ring\n",
      "  302:               MAINJT,           Tibet (TB),            Tree ring\n",
      "  303:               NYINJT,           Tibet (TB),            Tree ring\n",
      "  304:               RETIJT,           Tibet (TB),            Tree ring\n",
      "  305:               CENTIB,           Tibet (TB),            Tree ring\n",
      "  306:               MHGSTG,        Thailand (TH),            Tree ring\n",
      "  307:               CILAUP,          Taiwan (TW),            Tree ring\n",
      "  308:               MCCHFH,         Vietnam (VM),            Tree ring\n",
      "  309:               BDFLON,         Vietnam (VM),            Tree ring\n",
      "  310:              Mt Read,            Australia,            Tree ring\n",
      "  311:                Oroko,          New Zealand,            Tree ring\n",
      "  312:              Palmyra,    Northern Line Ids,                Coral\n",
      "  313: Celery Top Pine East,            Australia,            Tree ring\n",
      "  314:            Pink Pine,          New Zealand,            Tree ring\n",
      "  315:              Urewera,          New Zealand,            Tree ring\n",
      "  316:     Buckley's Chance,            Australia,            Tree ring\n",
      "  317: North Island_LIBI_Composite_1,          New Zealand,            Tree ring\n",
      "  318: Celery Top Pine West,            Australia,            Tree ring\n",
      "  319:           Mangawhero,          New Zealand,            Tree ring\n",
      "  320:                Kauri,          New Zealand,            Tree ring\n",
      "  321:              Fiji_AB,                 Fiji,                Coral\n",
      "  322:  NI_LIBI_Composite_2,          New Zealand,            Tree ring\n",
      "  323:        New_Caledonia,        New Caledonia,                Coral\n",
      "  324: Stewart_Island_HABI_composite,          New Zealand,            Tree ring\n",
      "  325:            Rarotonga,         Cook Islands,                Coral\n",
      "  326: Great Barrier Reef Rainfall recon,            Australia,                Coral\n",
      "  327:             Havannah,            Australia,                Coral\n",
      "  328:              Fiji_1F,                 Fiji,                Coral\n",
      "  329:                  Moa,          New Zealand,            Tree ring\n",
      "  330:             Abrolhos,            Australia,                Coral\n",
      "  331:             Savusavu,                 Fiji,                Coral\n",
      "  332:              Bunaken,            Indonesia,                Coral\n",
      "  333:         Rarotonga.3R,         Cook Islands,                Coral\n",
      "  334:               BawBaw,            Australia,            Tree ring\n",
      "  335:               Avaiki,                 Niue,           Speleothem\n",
      "  336:                Laing,     Papua New Guinea,                Coral\n",
      "  337:             Ningaloo,             Ningaloo,                Coral\n"
     ]
    }
   ],
   "source": [
    "# We can write some code to search the metadata for a proxy we're interested in.\n",
    "#search_string = 'Europe'\n",
    "#field_to_search = 'PAGES 2k Region'\n",
    "\n",
    "search_string = 'Asia'\n",
    "field_to_search = 'PAGES 2k Region'\n",
    "\n",
    "#search_string = \"Ice Core\"\n",
    "#field_to_search = \"Archive type\"\n",
    "\n",
    "#search_string = 'lake'\n",
    "#field_to_search = 'Archive type'\n",
    "\n",
    "# Loop through every key.  If part of the key matches the the search string, print the index and the key.\n",
    "n_proxies = metadata.shape[0]\n",
    "print('%5s: %20s: %20s: %20s:' % ('index','Site','Country/Region','Archive type'))\n",
    "for i in range(n_proxies):\n",
    "    if isinstance(metadata.loc[i][field_to_search], str):\n",
    "        if search_string.lower() in metadata.loc[i][field_to_search].lower():\n",
    "            print('%5s: %20s, %20s, %20s' % (i, metadata.loc[i]['Site'], metadata.loc[i]['Country/Region'],\\\n",
    "                                              metadata.loc[i]['Archive type']))\n",
    "            \n",
    "            "
   ]
  },
  {
   "cell_type": "code",
   "execution_count": 11,
   "metadata": {},
   "outputs": [],
   "source": [
    "# Choose the index of a record you're interested in.\n",
    "index_selected = 101\n"
   ]
  },
  {
   "cell_type": "code",
   "execution_count": 12,
   "metadata": {},
   "outputs": [
    {
     "name": "stdout",
     "output_type": "stream",
     "text": [
      "            PAGES 2k Region :                 Asia\n",
      "                   Proxy ID :              Asi_021\n",
      "             Country/Region : Altai Mountains (AT)\n",
      "                       Area :              RUSS139\n",
      "                       Site :               UKHEWD\n",
      "                    Lat (N) :                50.15\n",
      "                    Lon (E) :     85.3666666666667\n",
      "               Archive type :            Tree ring\n",
      "          Proxy measurement :    Earlywood density\n",
      "           Proxy other info :                  nan\n",
      "      Sign relation to temp :             Positive\n",
      "              Oldest (C.E.) :               1581.0\n",
      "            Youngest (C.E.) :               1994.0\n",
      "            Resolution (yr) :                  1.0\n",
      "                  Reference :    Schweingruber, FH\n"
     ]
    }
   ],
   "source": [
    "# Loop through every element of the metadata and print it to screen.\n",
    "for key in metadata.keys():\n",
    "    print('%27s : %20s' % (key, metadata.loc[index_selected][key]))"
   ]
  },
  {
   "cell_type": "code",
   "execution_count": 13,
   "metadata": {},
   "outputs": [
    {
     "name": "stdout",
     "output_type": "stream",
     "text": [
      "Asi_021\n"
     ]
    }
   ],
   "source": [
    "# Get the key of the desired record.\n",
    "proxyID_selected = metadata.loc[index_selected]['Proxy ID']\n",
    "print(proxyID_selected)\n",
    "\n",
    "# Get the data for this record.\n",
    "proxy_data = proxies[proxyID_selected]"
   ]
  },
  {
   "cell_type": "code",
   "execution_count": 14,
   "metadata": {},
   "outputs": [],
   "source": [
    "# Save some useful metadata to new variables.\n",
    "reference    = metadata.loc[index_selected]['Reference']\n",
    "site_name    = metadata.loc[index_selected]['Site']\n",
    "lat          = metadata.loc[index_selected]['Lat (N)']\n",
    "lon          = metadata.loc[index_selected]['Lon (E)']\n",
    "archive_type = metadata.loc[index_selected]['Archive type']\n",
    "measurement  = metadata.loc[index_selected]['Proxy measurement']"
   ]
  },
  {
   "cell_type": "code",
   "execution_count": 15,
   "metadata": {},
   "outputs": [
    {
     "data": {
      "image/png": "[encoded data removed]",
      "text/plain": [
       "<Figure size 1080x360 with 1 Axes>"
      ]
     },
     "metadata": {},
     "output_type": "display_data"
    }
   ],
   "source": [
    "# Make a figure of the proxy record.\n",
    "plt.style.use('ggplot')\n",
    "\n",
    "plt.figure(figsize=(15,5))\n",
    "ax = plt.axes([.1,.1,.8,.8])\n",
    "plt.plot(proxy_data,color='k',marker='o',linewidth=1)\n",
    "plt.title(str(site_name)+\" (\"+str(archive_type)+\").  Lat: \"+str(lat)+\"$^\\circ$N, Lon: \"+\\\n",
    "          str(lon)+\"$^\\circ$E\\nReference: \"+reference[0:100])\n",
    "plt.xlabel(\"Year\")\n",
    "plt.ylabel(measurement)\n",
    "plt.show()"
   ]
  },
  {
   "cell_type": "markdown",
   "metadata": {},
   "source": [
    "## Further exploration\n",
    "\n",
    "Search for a different record and look at the results."
   ]
  },
  {
   "cell_type": "markdown",
   "metadata": {},
   "source": [
    "### Discussion\n",
    "\n",
    "Use of data from both proxy records and climate models is crucial to the advancement of paleoclimate research.\n",
    "* How many of you primarily work with proxy records?\n",
    "* How many of you primarily work with model output?\n",
    "* Do you often use data from both areas?"
   ]
  },
  {
   "cell_type": "code",
   "execution_count": null,
   "metadata": {
    "collapsed": true,
    "jupyter": {
     "outputs_hidden": true
    }
   },
   "outputs": [],
   "source": []
  },
  {
   "cell_type": "code",
   "execution_count": null,
   "metadata": {},
   "outputs": [],
   "source": []
  }
 ],
 "metadata": {
  "kernelspec": {
   "display_name": "Python 3",
   "language": "python",
   "name": "python3"
  },
  "language_info": {
   "codemirror_mode": {
    "name": "ipython",
    "version": 3
   },
   "file_extension": ".py",
   "mimetype": "text/x-python",
   "name": "python",
   "nbconvert_exporter": "python",
   "pygments_lexer": "ipython3",
   "version": "3.8.3"
  }
 },
 "nbformat": 4,
 "nbformat_minor": 4
}
