{
 "cells": [
  {
   "cell_type": "code",
   "execution_count": 1,
   "metadata": {},
   "outputs": [],
   "source": [
    "# A non-python command to make sure all figures are plotted on this page.\n",
    "%matplotlib inline"
   ]
  },
  {
   "cell_type": "code",
   "execution_count": 2,
   "metadata": {},
   "outputs": [],
   "source": [
    "# Import the necessary python packages \n",
    "import numpy as np\n",
    "import matplotlib.pyplot as plt\n",
    "import pandas as pd\n",
    "import cartopy.crs as ccrs\n",
    "import seaborn as sns\n",
    "import cartopy.feature as cfeature\n",
    "from scipy import stats\n",
    "\n",
    "# LMR specific imports\n",
    "#from load_gridded_data import read_gridded_data_HadCRUT\n",
    "from load_gridded_data import read_gridded_data_NOAA20CR"
   ]
  },
  {
   "cell_type": "code",
   "execution_count": 8,
   "metadata": {},
   "outputs": [
    {
     "name": "stdout",
     "output_type": "stream",
     "text": [
      "(164, 24, 33)\n"
     ]
    }
   ],
   "source": [
    "##################################\n",
    "# Read in Observational Temp Dataset\n",
    "##################################\n",
    "\n",
    "# Composite Plus Scaling Method:\n",
    "# Step 1 = Center: The composite time series is centered by the addition of a constant, chosen so that, over a defined period of overlap, \n",
    "# the time-mean of the composite time series equals that of the instrumental target series. \n",
    "# Step 2 = Scale: The centered composite time series is multiplied by a scaling coefficient (e.g. by regressing the proxy composite onto temperature)\n",
    "\n",
    "# Directory where historical griddded data products and  reanalysis data can be found\n",
    "datadir_calib = '/Users/alyssaatwood/Dropbox/Obs_datasets/'\n",
    "\n",
    "# ==========================================\n",
    "# load GISTEMP, HadCRU, BerkeleyEarth, MLOST\n",
    "# ==========================================\n",
    "calib_vars = ['Tsfc']\n",
    "\n",
    "# load NOAA 20th cent reanalysis\n",
    "datafile_calib  = 'airtemp.sfc.mon.mean_noaa20cr.nc'\n",
    "[ctime,obs_lat,obs_lon,obs_temp] = read_gridded_data_NOAA20CR(datadir_calib,datafile_calib,calib_vars,outfreq='annual')\n",
    "\n",
    "obs_time = np.array([d.year for d in ctime])\n",
    "\n",
    "# Average temp data over a specified region\n",
    "min_lat = 0.\n",
    "max_lat = 45.\n",
    "min_lon = 60.\n",
    "max_lon = 120.\n",
    "\n",
    "# Define calibration period\n",
    "start_yr = 1851\n",
    "end_yr = 2000\n",
    "\n",
    "min_lat_ix = np.argmin(abs(obs_lat - min_lat))\n",
    "max_lat_ix = np.argmin(abs(obs_lat - max_lat))\n",
    "\n",
    "min_lon_ix = np.argmin(abs(obs_lon - min_lon))\n",
    "max_lon_ix = np.argmin(abs(obs_lon - max_lon))\n",
    "\n",
    "min_tim_ix = np.argmin(abs(obs_time - start_yr))\n",
    "max_tim_ix = np.argmin(abs(obs_time - end_yr))\n",
    "\n",
    "obs_time = obs_time[min_tim_ix:max_tim_ix+1]\n",
    "obs_select = obs_temp[min_tim_ix:max_tim_ix,max_lat_ix:min_lat_ix+1, min_lon_ix:max_lon_ix+1]  # add 1 to the max lat to make it inclusive\n",
    "obs_anomaly = obs_select - np.mean(obs_select,axis=0)     # convert to anomaly (NOAA data is absolute temp in units of Kelvin)\n",
    "        \n",
    "print(obs_anomaly.shape)\n",
    "\n",
    "#comp = comp.truncate(before=start_yr, after=end_yr, axis=\"index\")"
   ]
  },
  {
   "cell_type": "code",
   "execution_count": null,
   "metadata": {},
   "outputs": [],
   "source": []
  }
 ],
 "metadata": {
  "kernelspec": {
   "display_name": "Python 3",
   "language": "python",
   "name": "python3"
  },
  "language_info": {
   "codemirror_mode": {
    "name": "ipython",
    "version": 3
   },
   "file_extension": ".py",
   "mimetype": "text/x-python",
   "name": "python",
   "nbconvert_exporter": "python",
   "pygments_lexer": "ipython3",
   "version": "3.8.3"
  }
 },
 "nbformat": 4,
 "nbformat_minor": 4
}
