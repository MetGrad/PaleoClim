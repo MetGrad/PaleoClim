{
 "cells": [
  {
   "cell_type": "markdown",
   "metadata": {},
   "source": [
    "# Notebook #2. Regional temperatures\n",
    "\n",
    "This python script reads in a spatial temperature file from an LMR reanalysis.  It also reads in a modern temperature data set (MLOST).  After exploring the LMR data set, we make two figures:\n",
    "1. A map of temperature difference between two periods.\n",
    "2. A time series of temperature anomalies averaged over a particular region, compared against the MLOST data."
   ]
  },
  {
   "cell_type": "code",
   "execution_count": null,
   "metadata": {
    "collapsed": true
   },
   "outputs": [],
   "source": [
    "# A non-python command to make sure all figures are plotted on this page.\n",
    "%matplotlib inline"
   ]
  },
  {
   "cell_type": "code",
   "execution_count": null,
   "metadata": {
    "collapsed": true
   },
   "outputs": [],
   "source": [
    "# Import the necessary python packages \n",
    "import numpy as np\n",
    "import matplotlib.pyplot as plt\n",
    "from mpl_toolkits.basemap import Basemap\n",
    "import xarray as xr\n",
    "import calendar\n",
    "from __future__ import print_function\n",
    "\n",
    "# Import a custom python function\n",
    "import sys\n",
    "sys.path.append('../python_functions')\n",
    "import map_proxies"
   ]
  },
  {
   "cell_type": "markdown",
   "metadata": {},
   "source": [
    "## The spatial temperature file\n",
    "\n",
    "One of the outputs of the LMR is a file containing spatial data of the 2m air temperature field.  This file contains several variables:\n",
    "* **tas**: Spatial temperature anomalies\n",
    "* **lat**: Latitudes of the data\n",
    "* **lon**: Longitudes of the data\n",
    "* **time**: Years of the reconstruction"
   ]
  },
  {
   "cell_type": "code",
   "execution_count": null,
   "metadata": {
    "collapsed": true
   },
   "outputs": [],
   "source": [
    "# Specify the name of an experiment and open the data set using xarray.\n",
    "experiment_name = 'hackathon_PAGES2kv1'\n",
    "\n",
    "# We ought to use the full ensemble.  However, this file is slow to load.\n",
    "#handle = xr.open_dataset('../data/'+experiment_name+'/tas_sfc_Amon_MCiters_ensemble_full_all.nc',decode_times=False)\n",
    "\n",
    "# Instead, we'll use just the means of the 11 iterations.  This will have unrealistically small uncertainty bands.\n",
    "handle = xr.open_dataset('../data/'+experiment_name+'/tas_sfc_Amon_MCiters_ensemble_mean.nc',decode_times=False)"
   ]
  },
  {
   "cell_type": "code",
   "execution_count": null,
   "metadata": {},
   "outputs": [],
   "source": [
    "# Use \"print\" to see the contents of the file.\n",
    "print(handle)"
   ]
  },
  {
   "cell_type": "code",
   "execution_count": null,
   "metadata": {},
   "outputs": [],
   "source": [
    "# Load data into variables\n",
    "tas = handle['tas'].values\n",
    "lat = handle['lat'].values\n",
    "lon = handle['lon'].values\n",
    "time = handle['time'].values"
   ]
  },
  {
   "cell_type": "markdown",
   "metadata": {},
   "source": [
    "### While we wait for that to load...\n",
    "\n",
    "Any questions so far?"
   ]
  },
  {
   "cell_type": "code",
   "execution_count": null,
   "metadata": {},
   "outputs": [],
   "source": [
    "# Use the \"shape\" command to see the shape of the tas array.\n",
    "print(tas.shape)"
   ]
  },
  {
   "cell_type": "code",
   "execution_count": null,
   "metadata": {
    "collapsed": true
   },
   "outputs": [],
   "source": [
    "# Place ensemble members and iterations on the same axis.  (Only use these lines if using all iterations.)\n",
    "#niter  = tas.shape[0]\n",
    "#nens   = tas.shape[1]\n",
    "#nyears = tas.shape[2]\n",
    "#nlat   = tas.shape[3]\n",
    "#nlon   = tas.shape[4]\n",
    "#tas = np.reshape(tas,(niter*nens,nyears,nlat,nlon))"
   ]
  },
  {
   "cell_type": "code",
   "execution_count": null,
   "metadata": {
    "collapsed": true
   },
   "outputs": [],
   "source": [
    "# Put iterations on the first axis.  (Only use this line if using the mean of the iterations.)\n",
    "tas = np.swapaxes(tas,0,1)"
   ]
  },
  {
   "cell_type": "code",
   "execution_count": null,
   "metadata": {
    "collapsed": true
   },
   "outputs": [],
   "source": [
    "# Compute the mean of all iterations\n",
    "tas_mean = np.mean(tas,axis=0)"
   ]
  },
  {
   "cell_type": "code",
   "execution_count": null,
   "metadata": {},
   "outputs": [],
   "source": [
    "# Use the \"shape\" command to see the shape of the tas_mean array.\n",
    "print(tas_mean.shape)"
   ]
  },
  {
   "cell_type": "code",
   "execution_count": null,
   "metadata": {},
   "outputs": [],
   "source": [
    "# Make a very basic plot of one year of this data.\n",
    "# (This won't be a very useful map, but I'm showing it for illustration purposes.)\n",
    "plt.style.use('ggplot')\n",
    "plt.figure(figsize=(20,11))\n",
    "plt.imshow(tas_mean[-1,:,:])  # -1 specifies the last index.  In this case, we're look at the last year.\n",
    "plt.title(\"2 m air temperature anomalies for the final year of the reanalysis ($^\\circ$C)\",fontsize=20)\n",
    "plt.colorbar()\n",
    "plt.show()"
   ]
  },
  {
   "cell_type": "markdown",
   "metadata": {},
   "source": [
    "## Reference temperature dataset\n",
    "\n",
    "Along with the LMR output, let's load an MLOST temperature dataset.  We'll use this later on for comparison with the LMR results."
   ]
  },
  {
   "cell_type": "code",
   "execution_count": null,
   "metadata": {
    "collapsed": true
   },
   "outputs": [],
   "source": [
    "# Specify the location of the MLOST data set and open it using xarray.\n",
    "handle_mlost = xr.open_dataset('../LMR_data/data/analyses/MLOST/MLOST_air.mon.anom_V3.5.4.nc',decode_times=True)"
   ]
  },
  {
   "cell_type": "code",
   "execution_count": null,
   "metadata": {},
   "outputs": [],
   "source": [
    "# Use \"print\" to see the contents of the file.\n",
    "print(handle_mlost)"
   ]
  },
  {
   "cell_type": "code",
   "execution_count": null,
   "metadata": {
    "collapsed": true
   },
   "outputs": [],
   "source": [
    "# Load data into variables\n",
    "tas_mlost = handle_mlost['air'].values\n",
    "lat_mlost = handle_mlost['lat'].values\n",
    "lon_mlost = handle_mlost['lon'].values\n",
    "time_mlost = handle_mlost['time'].values"
   ]
  },
  {
   "cell_type": "code",
   "execution_count": null,
   "metadata": {},
   "outputs": [],
   "source": [
    "print(time_mlost)"
   ]
  },
  {
   "cell_type": "code",
   "execution_count": null,
   "metadata": {
    "collapsed": true
   },
   "outputs": [],
   "source": [
    "# The MLOST data is monthly, but the LMR data is annual.  Let's compute an annual-mean MLOST data.\n",
    "\n",
    "# First, reshape the data so that years are on the first axis and months are on the second axis.\n",
    "years_mlost = range(1880,2015)\n",
    "nyears_mlost = len(years_mlost)\n",
    "\n",
    "tas_mlost_2d = np.reshape(tas_mlost[0:(nyears_mlost*12),:,:],(nyears_mlost,12,len(lat_mlost),len(lon_mlost)))"
   ]
  },
  {
   "cell_type": "code",
   "execution_count": null,
   "metadata": {
    "collapsed": true
   },
   "outputs": [],
   "source": [
    "# Function: Compute the annual-means weighted by the correct number of days in each month.\n",
    "def annual_mean(years,data_monthly):\n",
    "    data_annual = np.zeros((len(years)))\n",
    "    data_annual[:] = np.nan\n",
    "    for i,year in enumerate(years):\n",
    "        if calendar.isleap(year):\n",
    "            days_in_months = [31,29,31,30,31,30,31,31,30,31,30,31]\n",
    "        else:\n",
    "            days_in_months = [31,28,31,30,31,30,31,31,30,31,30,31]\n",
    "        data_annual[i] = np.average(data_monthly[i,:],weights=days_in_months)\n",
    "    #\n",
    "    return data_annual"
   ]
  },
  {
   "cell_type": "code",
   "execution_count": null,
   "metadata": {},
   "outputs": [],
   "source": [
    "# Create a variable filled with NaNs to store the new annual data in.\n",
    "tas_mlost_annual = np.zeros((nyears_mlost,len(lat_mlost),len(lon_mlost)))\n",
    "tas_mlost_annual[:] = np.nan\n",
    "\n",
    "# Since our function isn't designed to handle latitude and longitude data, we need use loops to call the function\n",
    "# for every lat and lon seperately.\n",
    "for j in range(len(lat_mlost)):\n",
    "    print(\"Computing: \"+str(j+1)+\"/\"+str(len(lat_mlost)), end='\\r')\n",
    "    for i in range(len(lon_mlost)):\n",
    "       tas_mlost_annual[:,j,i] = annual_mean(years_mlost,tas_mlost_2d[:,:,j,i])"
   ]
  },
  {
   "cell_type": "code",
   "execution_count": null,
   "metadata": {},
   "outputs": [],
   "source": [
    "# Take a quick look at the dimentions of the new-created array.\n",
    "print(tas_mlost_annual.shape)"
   ]
  },
  {
   "cell_type": "code",
   "execution_count": null,
   "metadata": {},
   "outputs": [],
   "source": [
    "# Remove the mean of years 1950-1980 from the verification data, to make it more comparible to the LMR data.\n",
    "ref_years = [1950,1980]\n",
    "ref_indices = [years_mlost.index(year) for year in ref_years]\n",
    "\n",
    "tas_mlost_ref = np.nanmean(tas_mlost_annual[ref_indices[0]:ref_indices[1]+1,:,:],axis=0)\n",
    "\n",
    "tas_mlost_annual = tas_mlost_annual - tas_mlost_ref[None,:,:]"
   ]
  },
  {
   "cell_type": "markdown",
   "metadata": {},
   "source": [
    "## Figures\n",
    "\n",
    "Let's make some more figures to better understand the data.  First, let's make a map of temperature anomalies between two time periods.  I've specified some the boundary years of the two periods.  Feel free to change them to explore other years."
   ]
  },
  {
   "cell_type": "code",
   "execution_count": null,
   "metadata": {
    "collapsed": true
   },
   "outputs": [],
   "source": [
    "### FIGURES\n",
    "plt.style.use('ggplot')"
   ]
  },
  {
   "cell_type": "markdown",
   "metadata": {},
   "source": [
    "## Figure 1. Spatial temperature anomalies between two periods"
   ]
  },
  {
   "cell_type": "code",
   "execution_count": null,
   "metadata": {
    "collapsed": true
   },
   "outputs": [],
   "source": [
    "### OPTIONS\n",
    "# Years to map temperature anomalies over.\n",
    "anomaly_period = [1980,2000]\n",
    "reference_period = [1840,1860]"
   ]
  },
  {
   "cell_type": "code",
   "execution_count": null,
   "metadata": {},
   "outputs": [],
   "source": [
    "# FIGURE 1: Map of temperature change between two periods\n",
    "m = Basemap(projection='robin',lon_0=180,resolution='c')\n",
    "lon_2d,lat_2d = np.meshgrid(lon,lat)\n",
    "x, y = m(lon_2d,lat_2d)\n",
    "levels = np.linspace(-3,3,25)\n",
    "\n",
    "plt.figure(figsize=(20,11))\n",
    "plt.axes([.05,.05,.9,.9])\n",
    "m.contourf(x,y,np.mean(tas_mean[anomaly_period[0]:anomaly_period[1]+1,:,:],axis=0)-\\\n",
    "           np.mean(tas_mean[reference_period[0]:reference_period[1]+1,:,:],axis=0),\\\n",
    "           levels,extend='both',cmap='bwr',vmin=np.min(levels),vmax=np.max(levels))\n",
    "m.drawcoastlines()\n",
    "m.drawparallels(np.arange(-90,90,30))\n",
    "m.drawmeridians(np.arange(0,360,30))\n",
    "m.colorbar(location='bottom')\n",
    "#map_proxies.map_proxies('../data/'+experiment_name,m,'all','proxytypes',200,'b','k',1)\n",
    "plt.title(\"Temperature anomalies (C) for years \"+str(anomaly_period[0])+\"-\"+str(anomaly_period[1])+\" minus \"+\\\n",
    "          str(reference_period[0])+\"-\"+str(reference_period[1])+\" CE.\",fontsize=20)\n",
    "plt.show()"
   ]
  },
  {
   "cell_type": "markdown",
   "metadata": {},
   "source": [
    "## Proxy network\n",
    "\n",
    "After taking a look at the data above, uncomment the line starting \"map_proxies\" and run the segment again.  \"map_proxies\" is a custom function to display the proxies used in the data assimilation."
   ]
  },
  {
   "cell_type": "markdown",
   "metadata": {},
   "source": [
    "## Discussion Question\n",
    "\n",
    "Annual proxies from PAGES2k v1 are used to create this climate reanalysis.  What are the strengths and weaknesses of the data set shown above?  Where and how should improvements be made?"
   ]
  },
  {
   "cell_type": "markdown",
   "metadata": {},
   "source": [
    "## Figure 2. Time-series of temperature over a particular region.\n",
    "\n",
    "Now that we have a map of spatial temperature variations, let's take a closer look at a particular region.  The code below will make a regional time series."
   ]
  },
  {
   "cell_type": "markdown",
   "metadata": {},
   "source": [
    "## Python functions\n",
    "\n",
    "For bits of code that are self-contained and may be useful later, it's good to write functions.  A function generally looks like this:\n",
    "\n",
    "```python\n",
    "def name(your,imported,variables):\n",
    "    [code]\n",
    "    return new,outputs\n",
    "```\n",
    "\n",
    "Parts of a function:\n",
    "* **def**: Define a function with the command \"def\"\n",
    "* **name**: Give your function a unique name..\n",
    "* **imported variables**: In parentheses, list the variables which will be imported from the code outside the function.  These names must be consistent within the function, but they don't need to be given the same names as the corresponding variable outside the function.\n",
    "* **code**: Write all of the function code, indented four spaces.\n",
    "* **return**: If you'd like to return any variables back to the rest of the code, list them after the word \"return\".\n",
    "\n",
    "Let's make two funtions:\n",
    "* Compute a regional average from given sets of latitude and longitude.\n",
    "* Compute a running mean of a time series."
   ]
  },
  {
   "cell_type": "code",
   "execution_count": null,
   "metadata": {
    "collapsed": true
   },
   "outputs": [],
   "source": [
    "\"\"\"\n",
    "Function: compute a spatial mean\n",
    "Inputs: - 3D variable (time,lat,lon)\n",
    "        - latitudes and longitudes \n",
    "        - latitude nad longitude boundaries\n",
    "Output: - spatial-mean time series of variable\n",
    "\"\"\"\n",
    "def spatial_mean(variable,lat,lon,lat_min,lat_max,lon_min,lon_max):\n",
    "    # Make all longitude values positive\n",
    "    if lon_min < 0:\n",
    "        lon_min = lon_min+360\n",
    "    if lon_max <= 0:\n",
    "        lon_max = lon_max+360\n",
    "    #\n",
    "    # Find the closest grid-points to the selected latitudes and longitudes\n",
    "    j_min = np.abs(lat-lat_min).argmin()\n",
    "    j_max = np.abs(lat-lat_max).argmin()\n",
    "    i_min = np.abs(lon-lon_min).argmin()\n",
    "    i_max = np.abs(lon-lon_max).argmin()\n",
    "    #print('Computing spatial mean. i='+str(i_min)+'-'+str(i_max)+', j='+str(j_min)+'-'+str(j_max) \\\n",
    "    #      +'.  Points are inclusive.')\n",
    "    #\n",
    "    # This function is sometimes used for datasets that have NaN in them.   To ignore all NaNs, create a masked array.\n",
    "    variable_masked = np.ma.masked_array(variable,np.isnan(variable))\n",
    "    #\n",
    "    # Compute a zonal mean over the selected longitude range.\n",
    "    variable_zonal = np.nanmean(variable_masked[:,:,i_min:i_max+1],axis=2)\n",
    "    #\n",
    "    # Compute latitude weights.\n",
    "    lat_weights = np.cos(np.radians(lat))\n",
    "    #\n",
    "    # Declare a new variable, then compute the mean weighted mean over the selected latitude range for every year.\n",
    "    variable_mean = np.zeros(variable.shape[0])\n",
    "    variable_mean[:] = np.nan\n",
    "    time = 0\n",
    "    for time in range(variable.shape[0]):\n",
    "        variable_mean[time] = np.ma.average(variable_zonal[time,j_min:j_max+1],axis=0,weights=lat_weights[j_min:j_max+1])\n",
    "    #\n",
    "    return variable_mean"
   ]
  },
  {
   "cell_type": "code",
   "execution_count": null,
   "metadata": {
    "collapsed": true
   },
   "outputs": [],
   "source": [
    "\"\"\"\n",
    "Function: Compute a running mean of a time series\n",
    "Inputs: - time series of variable\n",
    "        - size of window for running mean \n",
    "Output: - time series of variable smoothed with running mean\n",
    "\"\"\"\n",
    "def boxcar(ts,window_size):\n",
    "    ts_smoothed = np.convolve(ts,np.ones(window_size)/window_size,'valid')\n",
    "    return ts_smoothed"
   ]
  },
  {
   "cell_type": "markdown",
   "metadata": {},
   "source": [
    "## Options for Fig. 2"
   ]
  },
  {
   "cell_type": "code",
   "execution_count": null,
   "metadata": {
    "collapsed": true
   },
   "outputs": [],
   "source": [
    "### OPTIONS\n",
    "# Region to average over (latitudes: -90 to 90; longitudes: 0 to 360)\n",
    "latitudes = [30,60]\n",
    "longitudes = [-120,-90]\n",
    "# Number of years in boxcar smoothing (1=no smoothing) \n",
    "window_size = 10\n",
    "#window_size = 1"
   ]
  },
  {
   "cell_type": "markdown",
   "metadata": {},
   "source": [
    "## Calculations"
   ]
  },
  {
   "cell_type": "code",
   "execution_count": null,
   "metadata": {
    "collapsed": true
   },
   "outputs": [],
   "source": [
    "# Modify the time axis to account for the boxcar smoothing\n",
    "years = boxcar(time,window_size)\n",
    "years_mlost_smoothed = boxcar(years_mlost,window_size)"
   ]
  },
  {
   "cell_type": "code",
   "execution_count": null,
   "metadata": {
    "collapsed": true
   },
   "outputs": [],
   "source": [
    "# Compute the spatial mean for the verification data.\n",
    "tas_mlost_region = spatial_mean(tas_mlost_annual,lat_mlost,lon_mlost,\\\n",
    "                                latitudes[0],latitudes[1],longitudes[0],longitudes[1])"
   ]
  },
  {
   "cell_type": "code",
   "execution_count": null,
   "metadata": {},
   "outputs": [],
   "source": [
    "# Compute the spatial mean for the LMR data (for every iteration).\n",
    "niter = tas.shape[0]\n",
    "nyears = tas.shape[1]\n",
    "tas_region = np.zeros((niter,nyears))\n",
    "tas_region[:] = np.nan\n",
    "for iteration in range(niter):\n",
    "    print(\"Computing: \"+str(iteration+1)+\"/\"+str(niter), end='\\r')\n",
    "    tas_region[iteration,:] = spatial_mean(tas[iteration,:,:,:],lat,lon,latitudes[0],latitudes[1],longitudes[0],longitudes[1])"
   ]
  },
  {
   "cell_type": "markdown",
   "metadata": {},
   "source": [
    "### While we wait for that to compute...\n",
    "\n",
    "Question or comments about the code?  About the LMR?"
   ]
  },
  {
   "cell_type": "markdown",
   "metadata": {},
   "source": [
    "## Figure #2"
   ]
  },
  {
   "cell_type": "code",
   "execution_count": null,
   "metadata": {},
   "outputs": [],
   "source": [
    "# More options\n",
    "# Years to view\n",
    "selected_years = [1000,2000]\n",
    "# HDR uncertainty region\n",
    "hdr_bounds = [2.5,97.5]\n",
    "\n",
    "# FIGURE 2: Plot the time series of temperature anomalies, averaged over the given region.\n",
    "plt.figure(figsize=(20,11))\n",
    "plt.axes([.1,.1,.8,.8])\n",
    "line1 = plt.fill_between(years,boxcar(np.percentile(tas_region,hdr_bounds[0],axis=0),window_size),\\\n",
    "                         boxcar(np.percentile(tas_region,hdr_bounds[1],axis=0),window_size),color='b',alpha=0.2)\n",
    "line3, = plt.plot(years_mlost_smoothed,boxcar(tas_mlost_region,window_size),color='b',linewidth=2)\n",
    "line2, = plt.plot(years,boxcar(np.mean(tas_region,axis=0),window_size),color='k',linewidth=1)\n",
    "tas_mlost_region\n",
    "plt.xlim(selected_years)\n",
    "#plt.ylim(-1.5,1)\n",
    "plt.title(\"Regional-mean 2 m air temperature anomalies ($^\\circ$C), \"+str(window_size)+\\\n",
    "          \"-year sliding mean.\\nRegion: Lat: \"+str(latitudes[0])+\" - \"+str(latitudes[1])+\\\n",
    "          \", Lon: \"+str(longitudes[0])+\" - \"+str(longitudes[1]),fontsize=20)\n",
    "plt.xlabel(\"Year\",fontsize=16)\n",
    "plt.ylabel(\"Temperature anomaly ($^\\circ$C)\",fontsize=16)\n",
    "plt.legend([line1,line2,line3],[\"LMR HDR\",\"LMR mean\",\"MLOST\"],loc=2,fontsize=16)\n",
    "plt.show()"
   ]
  },
  {
   "cell_type": "markdown",
   "metadata": {
    "collapsed": true
   },
   "source": [
    "## Questions and discussion\n",
    "\n",
    "* Reminder: Because we're only using the iteration means, the error bars do not reflect the actual LMR uncertainty range.  When doing a real analysis, make sure to use all ensemble members.\n",
    "* Go back to the \"Options for Fig. 2\" section to specify a new region.  Does the time series show anything interesting?  Compare different regions.\n",
    "* What remains unclear?  Any questions or comments?"
   ]
  },
  {
   "cell_type": "code",
   "execution_count": null,
   "metadata": {
    "collapsed": true
   },
   "outputs": [],
   "source": []
  }
 ],
 "metadata": {
  "kernelspec": {
   "display_name": "Python 2",
   "language": "python",
   "name": "python2"
  },
  "language_info": {
   "codemirror_mode": {
    "name": "ipython",
    "version": 2
   },
   "file_extension": ".py",
   "mimetype": "text/x-python",
   "name": "python",
   "nbconvert_exporter": "python",
   "pygments_lexer": "ipython2",
   "version": "2.7.13"
  }
 },
 "nbformat": 4,
 "nbformat_minor": 2
}
