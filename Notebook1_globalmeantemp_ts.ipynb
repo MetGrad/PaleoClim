{
 "cells": [
  {
   "cell_type": "markdown",
   "metadata": {},
   "source": [
    "# Notebook #1: Global and hemispheric mean temperatures\n",
    "\n",
    "This notebook reads in the spatial-mean temperature file from an LMR reanalysis.  After exploring this dataset, we make three figures:\n",
    "1. Time-series of global-mean temperature anomalies\n",
    "2. Time-series of Northern Hemisphere and Southern Hemisphere-mean temperature anomalies\n",
    "3. Probability density functions of temperature anomalies for different years"
   ]
  },
  {
   "cell_type": "code",
   "execution_count": null,
   "metadata": {
    "collapsed": true,
    "jupyter": {
     "outputs_hidden": true
    }
   },
   "outputs": [],
   "source": [
    "# A non-python command to make sure all figures are plotted on this page.\n",
    "%matplotlib inline"
   ]
  },
  {
   "cell_type": "code",
   "execution_count": 1,
   "metadata": {},
   "outputs": [
    {
     "ename": "ModuleNotFoundError",
     "evalue": "No module named 'xarray'",
     "output_type": "error",
     "traceback": [
      "\u001b[0;31m---------------------------------------------------------------------------\u001b[0m",
      "\u001b[0;31mModuleNotFoundError\u001b[0m                       Traceback (most recent call last)",
      "\u001b[0;32m<ipython-input-1-986980563bc3>\u001b[0m in \u001b[0;36m<module>\u001b[0;34m\u001b[0m\n\u001b[1;32m      3\u001b[0m \u001b[0;32mimport\u001b[0m \u001b[0mmatplotlib\u001b[0m\u001b[0;34m.\u001b[0m\u001b[0mpyplot\u001b[0m \u001b[0;32mas\u001b[0m \u001b[0mplt\u001b[0m\u001b[0;34m\u001b[0m\u001b[0;34m\u001b[0m\u001b[0m\n\u001b[1;32m      4\u001b[0m \u001b[0;32mimport\u001b[0m \u001b[0mrandom\u001b[0m\u001b[0;34m\u001b[0m\u001b[0;34m\u001b[0m\u001b[0m\n\u001b[0;32m----> 5\u001b[0;31m \u001b[0;32mimport\u001b[0m \u001b[0mxarray\u001b[0m \u001b[0;32mas\u001b[0m \u001b[0mxr\u001b[0m\u001b[0;34m\u001b[0m\u001b[0;34m\u001b[0m\u001b[0m\n\u001b[0m\u001b[1;32m      6\u001b[0m \u001b[0;34m\u001b[0m\u001b[0m\n\u001b[1;32m      7\u001b[0m \u001b[0;31m# Import a custom python function\u001b[0m\u001b[0;34m\u001b[0m\u001b[0;34m\u001b[0m\u001b[0;34m\u001b[0m\u001b[0m\n",
      "\u001b[0;31mModuleNotFoundError\u001b[0m: No module named 'xarray'"
     ]
    }
   ],
   "source": [
    "# Import the necessary python packages \n",
    "import numpy as np\n",
    "import matplotlib.pyplot as plt\n",
    "import random\n",
    "import xarray as xr\n",
    "\n",
    "# Import a custom python function\n",
    "import sys\n",
    "sys.path.append('../python_functions')\n",
    "import filters as flt"
   ]
  },
  {
   "cell_type": "markdown",
   "metadata": {},
   "source": [
    "## The GMT file\n",
    "\n",
    "One of the outputs of the LMR is a \"gmt\" file with mean temperatures anomalies.  This file contains several variables:\n",
    "* **gmt**, **nhmt**, and **shmt**: Global, Northern Hemisphere, and Southern Hemisphere-mean temperature anomalies\n",
    "* **time**: Years of the reconstruction"
   ]
  },
  {
   "cell_type": "code",
   "execution_count": null,
   "metadata": {
    "collapsed": true,
    "jupyter": {
     "outputs_hidden": true
    }
   },
   "outputs": [],
   "source": [
    "# Specify the name of an experiment and open the data set using xarray.\n",
    "experiment_name = 'hackathon_PAGES2kv1'\n",
    "handle = xr.open_dataset('../data/'+experiment_name+'/gmt_ensemble_MCiters.nc',decode_times=False)"
   ]
  },
  {
   "cell_type": "code",
   "execution_count": null,
   "metadata": {},
   "outputs": [],
   "source": [
    "# \"print\" shows us the contents of a file.  \"print\" this new variable to see the contents of the file.\n",
    "print(handle)"
   ]
  },
  {
   "cell_type": "code",
   "execution_count": null,
   "metadata": {
    "collapsed": true,
    "jupyter": {
     "outputs_hidden": true
    }
   },
   "outputs": [],
   "source": [
    "# Load data into variables\n",
    "gmt_data = handle['gmt'].values\n",
    "nhmt_data = handle['nhmt'].values\n",
    "shmt_data = handle['shmt'].values\n",
    "recon_times = handle['time'].values"
   ]
  },
  {
   "cell_type": "code",
   "execution_count": null,
   "metadata": {},
   "outputs": [],
   "source": [
    "# The time variable gives the year.\n",
    "print(recon_times)"
   ]
  },
  {
   "cell_type": "code",
   "execution_count": null,
   "metadata": {},
   "outputs": [],
   "source": [
    "# To print only specific cells of an array, specify the indicies in brackets.  In python, indices start at 0, not 1!\n",
    "print(recon_times[0:10])"
   ]
  },
  {
   "cell_type": "code",
   "execution_count": null,
   "metadata": {},
   "outputs": [],
   "source": [
    "# The gmt variable contains global-mean temperature.  It is an array with three dimensions: time, iterations, and\n",
    "# ensemble members.  The \"shape\" command shows the shape of an array.\n",
    "print(gmt_data.shape)"
   ]
  },
  {
   "cell_type": "markdown",
   "metadata": {},
   "source": [
    "## Uncertainty in the LMR\n",
    "One strength of the LMR framework is that is produces an ensemble of results, quantifying uncertainty.\n",
    "\n",
    "Each time the LMR is run, it uses a random 75% of the proxy records and a random 200 years of the model results.  Differences in these 200 \"prior\" years lead to the 200 different \"posterior\" results.  These are the 200 **ensemble** members.\n",
    "\n",
    "Additionally,  multiple **iterations** of the LMR are run.  Each iteration uses a different 75% of the proxy records and a different 200 model years.  This is another way of sampling uncertainty.  In these results, 11 iterations were run.\n",
    "\n",
    "11 iterations, each with 200 ensemble members, gives us 2200 possible solutions based on the data."
   ]
  },
  {
   "cell_type": "code",
   "execution_count": null,
   "metadata": {},
   "outputs": [],
   "source": [
    "# Print the first 10 values of one ensemble member.  '0:10' means the first 10 indices of the 'time' dimension.\n",
    "# 0s in the other dimensions selects the first index in those two dimensions.\n",
    "print(gmt_data[0:10,0,0])"
   ]
  },
  {
   "cell_type": "code",
   "execution_count": null,
   "metadata": {},
   "outputs": [],
   "source": [
    "# Print the first 10 values of a different ensemble member, to prove that these values are different.\n",
    "print(gmt_data[0:10,3,7])"
   ]
  },
  {
   "cell_type": "code",
   "execution_count": null,
   "metadata": {},
   "outputs": [],
   "source": [
    "# To get a better sense of what this data looks like, make a basic plot of two ensemble members.\n",
    "plt.style.use('ggplot')\n",
    "plt.figure(figsize=(20,11))\n",
    "\n",
    "plt.plot(recon_times,gmt_data[:,0,0])\n",
    "plt.plot(recon_times,gmt_data[:,3,7])\n",
    "plt.title(\"Global-mean 2 m air temperature anomalies for two ensemble members ($^\\circ$C)\",fontsize=20)\n",
    "plt.xlabel(\"Year\",fontsize=16)\n",
    "plt.ylabel(\"Temperature anomaly ($^\\circ$C)\",fontsize=16)\n",
    "plt.show()"
   ]
  },
  {
   "cell_type": "markdown",
   "metadata": {},
   "source": [
    "## Discussion Question\n",
    "\n",
    "* Why does the LMR produce a range of possible answers?  Why not just use the median?\n",
    "* What do you notice about the two ensemble member above?"
   ]
  },
  {
   "cell_type": "markdown",
   "metadata": {},
   "source": [
    "## Figures\n",
    "\n",
    "Let's make some more figures to better understand the data.  First, let's make a better figure of global-mean temperature anomalies over time.  I've specified some options for the figure.  Leave them as-is for now.  You can return to them later to modify what we are plotting.  The \"highest density region\" shows the range of results between the two percentiles listed below (initially the 2.5 - 97.5 percentiles)."
   ]
  },
  {
   "cell_type": "code",
   "execution_count": null,
   "metadata": {
    "collapsed": true,
    "jupyter": {
     "outputs_hidden": true
    }
   },
   "outputs": [],
   "source": [
    "### OPTIONS\n",
    "# Some options for modifying the figures\n",
    "\n",
    "# Years to view\n",
    "selected_years = [1000,2000]\n",
    "# Number of years in boxcar smoothing (1=no smoothing) \n",
    "window_size = 10\n",
    "# Highest density region\n",
    "hdr_bounds = [2.5,97.5]\n",
    "# Number of ensemle members to view\n",
    "sample_members = 5"
   ]
  },
  {
   "cell_type": "code",
   "execution_count": null,
   "metadata": {
    "collapsed": true,
    "jupyter": {
     "outputs_hidden": true
    }
   },
   "outputs": [],
   "source": [
    "### CALCULATIONS\n",
    "\n",
    "# Get dimensions\n",
    "nyears = gmt_data.shape[0]\n",
    "niters = gmt_data.shape[1]\n",
    "nens   = gmt_data.shape[2]\n",
    "\n",
    "# Reshape the arrays so that iterations and ensemble members are on the same axis\n",
    "gmt = np.reshape(gmt_data,(nyears,niters*nens))\n",
    "nhmt = np.reshape(nhmt_data,(nyears,niters*nens))\n",
    "shmt = np.reshape(shmt_data,(nyears,niters*nens))\n",
    "\n",
    "# Select random indices\n",
    "random.seed(a=0)\n",
    "random_indices = random.sample(xrange(0,nens*niters),sample_members)\n",
    "\n",
    "# Define a simple smoothing function\n",
    "def boxcar(ts,window_size):\n",
    "    ts_smoothed = np.convolve(ts,np.ones(window_size)/window_size,'valid')\n",
    "    return ts_smoothed\n",
    "\n",
    "# Modify the time axis to account for the boxcar smoothing\n",
    "years = boxcar(recon_times,window_size)"
   ]
  },
  {
   "cell_type": "code",
   "execution_count": null,
   "metadata": {
    "collapsed": true,
    "jupyter": {
     "outputs_hidden": true
    }
   },
   "outputs": [],
   "source": [
    "### FIGURES\n",
    "# Set the plot style to 'ggplot'.\n",
    "plt.style.use('ggplot')"
   ]
  },
  {
   "cell_type": "markdown",
   "metadata": {},
   "source": [
    "## Figure 1. Global-mean temperature anomalies through time."
   ]
  },
  {
   "cell_type": "code",
   "execution_count": null,
   "metadata": {},
   "outputs": [],
   "source": [
    "# FIGURE 1: Plot the whole LMR reconstruction, smoothing data with a moving average.\n",
    "plt.figure(figsize=(20,11))\n",
    "plt.axes([.1,.1,.8,.8])\n",
    "\n",
    "# Boxcar filter (A very basic filter.)\n",
    "line1 = plt.fill_between(years,boxcar(np.percentile(gmt,hdr_bounds[0],axis=1),window_size), \\\n",
    "                         boxcar(np.percentile(gmt,hdr_bounds[1],axis=1),window_size),color='b',alpha=0.2)\n",
    "for i in random_indices: line2, = plt.plot(years,boxcar(gmt[:,i],window_size),color='gray',linewidth=.5)\n",
    "\n",
    "line3, = plt.plot(years,boxcar(np.mean(gmt,axis=1),window_size),color='k',linewidth=1)\n",
    "\n",
    "# Butterworth filter (Feel free to comment out the lines above unstead of these to use a different filter.)\n",
    "#line1 = plt.fill_between(recon_times,flt.butterworth(np.percentile(gmt,hdr_bounds[0],axis=1),.1), \\\n",
    "#                         flt.butterworth(np.percentile(gmt,hdr_bounds[1],axis=1),.1),color='b',alpha=0.2)\n",
    "#for i in random_indices: line2, = plt.plot(recon_times,flt.butterworth(gmt[:,i],.1),color='gray',linewidth=.5)\n",
    "\n",
    "#line3, = plt.plot(recon_times,flt.butterworth(np.mean(gmt,axis=1),.1),color='k',linewidth=1)\n",
    "\n",
    "plt.xlim(selected_years)\n",
    "#plt.ylim(-1.5,1)\n",
    "plt.title(\"Global-mean 2 m air temperature anomalies ($^\\circ$C), \"+str(window_size)+ \\\n",
    "          \"-year sliding mean.\\nExperiment: \"+experiment_name,fontsize=20)\n",
    "plt.xlabel(\"Year\",fontsize=16)\n",
    "plt.ylabel(\"Temperature anomaly ($^\\circ$C)\",fontsize=16)\n",
    "plt.legend([line1,line3,line2],[\"HDR\",\"Mean\",\"Sample members\"],loc=2,fontsize=16)\n",
    "plt.show()"
   ]
  },
  {
   "cell_type": "markdown",
   "metadata": {},
   "source": [
    "## Discussion Question\n",
    "\n",
    "Why does the highest density region become narrower toward the present?"
   ]
  },
  {
   "cell_type": "markdown",
   "metadata": {},
   "source": [
    "## Figure 2. Northern and Southern Hemisphere mean temperature anomalies through time.\n",
    "\n",
    "In addition to global-mean temperatures, this file contains NH and SH-mean temperatures.  Lets make a figure with both of these hemispheric means plotted."
   ]
  },
  {
   "cell_type": "code",
   "execution_count": null,
   "metadata": {},
   "outputs": [],
   "source": [
    "# FIGURE 2: Plot the NH and SH reanalyses.\n",
    "plt.figure(figsize=(20,11))\n",
    "plt.axes([.1,.1,.8,.8])\n",
    "line1 = plt.fill_between(years,boxcar(np.percentile(nhmt,hdr_bounds[0],axis=1),window_size), \\\n",
    "                         boxcar(np.percentile(nhmt,hdr_bounds[1],axis=1),window_size),color='r',alpha=0.2)\n",
    "line2 = plt.fill_between(years,boxcar(np.percentile(shmt,hdr_bounds[0],axis=1),window_size), \\\n",
    "                         boxcar(np.percentile(shmt,hdr_bounds[1],axis=1),window_size),color='m',alpha=0.2)\n",
    "line3, = plt.plot(years,boxcar(np.mean(nhmt,axis=1),window_size),color='r',linewidth=1)\n",
    "line4, = plt.plot(years,boxcar(np.mean(shmt,axis=1),window_size),color='m',linewidth=1)\n",
    "plt.xlim(selected_years)\n",
    "#plt.ylim(-1.5,1)\n",
    "plt.title(\"NH and SH mean 2 m air temperature anomalies ($^\\circ$C), \"+str(window_size)+ \\\n",
    "          \"-year sliding mean.\\nExperiment: \"+experiment_name,fontsize=20)\n",
    "plt.xlabel(\"Year\",fontsize=16)\n",
    "plt.ylabel(\"Temperature anomaly ($^\\circ$C)\",fontsize=16)\n",
    "plt.legend([line1,line3,line2,line4],[\"NH HDR\",\"NH mean\",\"SH HDR\",\"SH mean\"],loc=2,ncol=2,fontsize=16)\n",
    "plt.show()"
   ]
  },
  {
   "cell_type": "markdown",
   "metadata": {},
   "source": [
    "## Figure 3. Distribution of temperature anomalies.\n",
    "\n",
    "As explained above, the LMR produces a collection of possible results.  This is partially shown in the shaded \"highest density region\" above, but let's plot histograms for individual years to see this more clearly."
   ]
  },
  {
   "cell_type": "code",
   "execution_count": null,
   "metadata": {},
   "outputs": [],
   "source": [
    "# Use the shape command to remind ourselves what the data array looks like.\n",
    "print(gmt.shape)"
   ]
  },
  {
   "cell_type": "code",
   "execution_count": null,
   "metadata": {},
   "outputs": [],
   "source": [
    "# FIGURE 3: Probability density functions of specific years.\n",
    "\n",
    "# Specify the years you want to see probability density functions for.\n",
    "years_pdf = [1850,2000]\n",
    "# Find the indices of the years listed above using \"list comprehension\".\n",
    "index_of_years = [recon_times.tolist().index(year) for year in years_pdf]\n",
    "nyears_pdf = len(years_pdf)\n",
    "\n",
    "# Use the subplot function to create multiple plots.\n",
    "f, ax = plt.subplots(nyears_pdf,1,figsize=(20,11),sharex=True,sharey=True)\n",
    "ax = ax.ravel()\n",
    "for i in range(nyears_pdf):\n",
    "    ax[i].set_title(\"Year \"+str(years_pdf[i]))\n",
    "    ax[i].hist(gmt[years_pdf[i],:],40)\n",
    "    ax[i].set_ylabel(\"Frequency of occurance\",fontsize=16)\n",
    "    ax[i].set_xlabel(\"Temperature anomalies ($^\\circ$C)\",fontsize=16)\n",
    "\n",
    "f.suptitle(\"Probability density functions of temperature anomalies at specific years.\",fontsize=20)\n",
    "f.tight_layout()\n",
    "f.subplots_adjust(top=.9)\n",
    "plt.show()"
   ]
  },
  {
   "cell_type": "markdown",
   "metadata": {},
   "source": [
    "## Exploring variables\n",
    "\n",
    "If you're unsure about the purpose or contents of any of the variables we're using, feel free to take a look at a variable with the **shape** (for arrays) or **print** commands to get a better idea of its contents, as follows:"
   ]
  },
  {
   "cell_type": "code",
   "execution_count": null,
   "metadata": {},
   "outputs": [],
   "source": [
    "print(recon_times.shape)"
   ]
  },
  {
   "cell_type": "code",
   "execution_count": null,
   "metadata": {},
   "outputs": [],
   "source": [
    "print(recon_times)"
   ]
  },
  {
   "cell_type": "markdown",
   "metadata": {},
   "source": [
    "## Further exploration\n",
    "\n",
    "Modify the options in the code above to change the figures, or modify other parts of the code. "
   ]
  },
  {
   "cell_type": "markdown",
   "metadata": {},
   "source": [
    "## Questions and discussion\n",
    "\n",
    "What remains unclear?  What looks interesting?"
   ]
  },
  {
   "cell_type": "code",
   "execution_count": null,
   "metadata": {
    "collapsed": true,
    "jupyter": {
     "outputs_hidden": true
    }
   },
   "outputs": [],
   "source": []
  }
 ],
 "metadata": {
  "kernelspec": {
   "display_name": "Python 3",
   "language": "python",
   "name": "python3"
  },
  "language_info": {
   "codemirror_mode": {
    "name": "ipython",
    "version": 3
   },
   "file_extension": ".py",
   "mimetype": "text/x-python",
   "name": "python",
   "nbconvert_exporter": "python",
   "pygments_lexer": "ipython3",
   "version": "3.7.3"
  }
 },
 "nbformat": 4,
 "nbformat_minor": 4
}
